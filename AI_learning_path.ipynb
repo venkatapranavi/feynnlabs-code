{
  "nbformat": 4,
  "nbformat_minor": 0,
  "metadata": {
    "colab": {
      "provenance": [],
      "authorship_tag": "ABX9TyNTJB1gXeyWypMY0FpBKek4",
      "include_colab_link": true
    },
    "kernelspec": {
      "name": "python3",
      "display_name": "Python 3"
    },
    "language_info": {
      "name": "python"
    }
  },
  "cells": [
    {
      "cell_type": "markdown",
      "metadata": {
        "id": "view-in-github",
        "colab_type": "text"
      },
      "source": [
        "<a href=\"https://colab.research.google.com/github/venkatapranavi/feynnlabs-code/blob/main/AI_learning_path.ipynb\" target=\"_parent\"><img src=\"https://colab.research.google.com/assets/colab-badge.svg\" alt=\"Open In Colab\"/></a>"
      ]
    },
    {
      "cell_type": "markdown",
      "source": [
        "# AI-Powered Personalized Learning Path Generator\n",
        "**by saranya , pranavi**\n",
        "\n",
        "\n",
        "\n",
        "This project builds a **personalized learning roadmap** for students or professionals based on:\n",
        "- Learner profile (skills, goals, hours per week).\n",
        "- Course catalog with metadata.\n",
        "- Rule-based + AI-ready recommendation logic."
      ],
      "metadata": {
        "id": "8LdvvbtwetEn"
      }
    },
    {
      "cell_type": "code",
      "execution_count": null,
      "metadata": {
        "id": "D5dPGh16XnaI"
      },
      "outputs": [],
      "source": [
        "!mkdir -p /content/ai_learning_path/src\n",
        "!mkdir -p /content/ai_learning_path/data\n"
      ]
    },
    {
      "cell_type": "code",
      "source": [
        "%%writefile /content/ai_learning_path/data/sample_catalog.csv\n",
        "title,tags,level,hours\n",
        "Intro to Python,\"python,basics\",beginner,10\n",
        "Data Structures in C++,\"c++,dsa\",intermediate,15\n",
        "Machine Learning 101,\"ml,math,python\",intermediate,20\n",
        "Deep Learning Foundations,\"ml,dl,python\",advanced,25\n",
        "System Design Basics,\"system,design,architecture\",advanced,20\n"
      ],
      "metadata": {
        "colab": {
          "base_uri": "https://localhost:8080/"
        },
        "id": "dQLiKhpkXun1",
        "outputId": "1f42fd41-12df-4cd8-8b67-a65a0b2f9f64"
      },
      "execution_count": null,
      "outputs": [
        {
          "output_type": "stream",
          "name": "stdout",
          "text": [
            "Overwriting /content/ai_learning_path/data/sample_catalog.csv\n"
          ]
        }
      ]
    },
    {
      "cell_type": "code",
      "source": [
        "%%writefile /content/ai_learning_path/src/data_loader.py\n",
        "import pandas as pd\n",
        "\n",
        "def load_sample_catalog(path=\"/content/ai_learning_path/data/sample_catalog.csv\"):\n",
        "    return pd.read_csv(path)\n"
      ],
      "metadata": {
        "colab": {
          "base_uri": "https://localhost:8080/"
        },
        "id": "vJYqjvdJXxc4",
        "outputId": "3478bfb6-ba0d-40c7-ff9e-d15782ad0362"
      },
      "execution_count": null,
      "outputs": [
        {
          "output_type": "stream",
          "name": "stdout",
          "text": [
            "Overwriting /content/ai_learning_path/src/data_loader.py\n"
          ]
        }
      ]
    },
    {
      "cell_type": "code",
      "source": [
        "%%writefile /content/ai_learning_path/src/learner_profile.py\n",
        "from dataclasses import dataclass\n",
        "from typing import List\n",
        "\n",
        "@dataclass\n",
        "class LearnerProfile:\n",
        "    name: str = \"Student\"\n",
        "    current_level: str = \"beginner\"     # beginner | intermediate | advanced\n",
        "    target_role: str = \"Software Engineer\"\n",
        "    goals: List[str] = None\n",
        "    weak_skills: List[str] = None\n",
        "    must_have_topics: List[str] = None\n",
        "    available_hours_per_week: int = 10\n",
        "\n",
        "    def __post_init__(self):\n",
        "        if self.goals is None: self.goals = [\"learn DSA\", \"prepare for interviews\"]\n",
        "        if self.weak_skills is None: self.weak_skills = [\"dsa\", \"system\"]\n",
        "        if self.must_have_topics is None: self.must_have_topics = [\"python\", \"c++\"]\n"
      ],
      "metadata": {
        "colab": {
          "base_uri": "https://localhost:8080/"
        },
        "id": "MBtr8ofxX0II",
        "outputId": "d9509f5b-20df-4d04-f36d-e3adf563d29f"
      },
      "execution_count": null,
      "outputs": [
        {
          "output_type": "stream",
          "name": "stdout",
          "text": [
            "Overwriting /content/ai_learning_path/src/learner_profile.py\n"
          ]
        }
      ]
    },
    {
      "cell_type": "code",
      "source": [
        "%%writefile /content/ai_learning_path/src/skill_graph.py\n",
        "import networkx as nx\n",
        "import matplotlib.pyplot as plt\n",
        "\n",
        "def get_prerequisites(skill: str):\n",
        "    prereqs = {\n",
        "        \"dsa\": [\"python basics\"],\n",
        "        \"ml\": [\"python basics\", \"math\"],\n",
        "        \"dl\": [\"ml\"]\n",
        "    }\n",
        "    return prereqs.get(skill, [])\n",
        "\n",
        "def build_prereq_graph(target_skills):\n",
        "    \"\"\"\n",
        "    Builds a prerequisite graph for given skills\n",
        "    \"\"\"\n",
        "    G = nx.DiGraph()\n",
        "\n",
        "    def add_with_prereqs(skill):\n",
        "        if skill not in G:\n",
        "            G.add_node(skill)\n",
        "        for prereq in get_prerequisites(skill):\n",
        "            G.add_edge(prereq, skill)  # prereq → skill\n",
        "            add_with_prereqs(prereq)\n",
        "\n",
        "    for s in target_skills:\n",
        "        add_with_prereqs(s)\n",
        "\n",
        "    return G\n",
        "\n",
        "def plot_prereq_graph(G, title=\"Learning Path Prerequisite Graph\"):\n",
        "    \"\"\"\n",
        "    Visualizes the prerequisite graph\n",
        "    \"\"\"\n",
        "    plt.figure(figsize=(8, 6))\n",
        "    pos = nx.spring_layout(G, seed=42)\n",
        "    nx.draw(\n",
        "        G, pos,\n",
        "        with_labels=True,\n",
        "        node_size=2500,\n",
        "        node_color=\"lightblue\",\n",
        "        font_size=10,\n",
        "        font_weight=\"bold\",\n",
        "        arrowsize=15\n",
        "    )\n",
        "    plt.title(title)\n",
        "    plt.show()\n",
        "\n"
      ],
      "metadata": {
        "colab": {
          "base_uri": "https://localhost:8080/"
        },
        "id": "CGdJqHrTX3YR",
        "outputId": "61be9876-53d7-4213-f1bc-9e5a732722df"
      },
      "execution_count": null,
      "outputs": [
        {
          "output_type": "stream",
          "name": "stdout",
          "text": [
            "Overwriting /content/ai_learning_path/src/skill_graph.py\n"
          ]
        }
      ]
    },
    {
      "cell_type": "code",
      "source": [
        "%%writefile /content/ai_learning_path/src/recommender.py\n",
        "from dataclasses import dataclass\n",
        "from typing import List\n",
        "import pandas as pd\n",
        "from src.learner_profile import LearnerProfile\n",
        "\n",
        "@dataclass\n",
        "class ScoredCourse:\n",
        "    row: pd.Series\n",
        "    score: float\n",
        "    reasons: List[str]\n",
        "\n",
        "def rank_courses(profile: LearnerProfile, catalog: pd.DataFrame, top_k: int = 10) -> List[ScoredCourse]:\n",
        "    items = []\n",
        "    for _, row in catalog.iterrows():\n",
        "        score = 0.0\n",
        "        reasons = []\n",
        "\n",
        "        if any(skill in row.tags for skill in profile.weak_skills):\n",
        "            score += 1.0\n",
        "            reasons.append(\"matches weak skill\")\n",
        "        if profile.current_level == row.level:\n",
        "            score += 0.5\n",
        "            reasons.append(\"level aligned\")\n",
        "\n",
        "        if not reasons:\n",
        "            reasons.append(\"generic match\")\n",
        "\n",
        "        items.append(ScoredCourse(row=row, score=score, reasons=reasons))\n",
        "\n",
        "    return sorted(items, key=lambda x: x.score, reverse=True)[:top_k]\n"
      ],
      "metadata": {
        "colab": {
          "base_uri": "https://localhost:8080/"
        },
        "id": "5qhDUlZOX6VT",
        "outputId": "acccd826-61ad-4063-e383-66382045f3d3"
      },
      "execution_count": null,
      "outputs": [
        {
          "output_type": "stream",
          "name": "stdout",
          "text": [
            "Overwriting /content/ai_learning_path/src/recommender.py\n"
          ]
        }
      ]
    },
    {
      "cell_type": "code",
      "source": [
        "%%writefile /content/ai_learning_path/src/planner.py\n",
        "from dataclasses import dataclass\n",
        "from typing import List\n",
        "from src.recommender import ScoredCourse\n",
        "from src.learner_profile import LearnerProfile\n",
        "\n",
        "@dataclass\n",
        "class WeeklyPlan:\n",
        "    week: int\n",
        "    title: str\n",
        "    hours: int\n",
        "\n",
        "def plan_path(profile: LearnerProfile, ranked: List[ScoredCourse]) -> List[WeeklyPlan]:\n",
        "    weeks = []\n",
        "    week_num = 1\n",
        "    hours_left = profile.available_hours_per_week\n",
        "    for sc in ranked:\n",
        "        hrs = int(sc.row.hours)\n",
        "        if hrs > hours_left:\n",
        "            week_num += 1\n",
        "            hours_left = profile.available_hours_per_week\n",
        "        weeks.append(WeeklyPlan(week=week_num, title=sc.row.title, hours=hrs))\n",
        "        hours_left -= hrs\n",
        "    return weeks\n"
      ],
      "metadata": {
        "colab": {
          "base_uri": "https://localhost:8080/"
        },
        "id": "Bf3XSvx4X86O",
        "outputId": "90188649-c634-43d9-ae86-3489dd400772"
      },
      "execution_count": null,
      "outputs": [
        {
          "output_type": "stream",
          "name": "stdout",
          "text": [
            "Overwriting /content/ai_learning_path/src/planner.py\n"
          ]
        }
      ]
    },
    {
      "cell_type": "code",
      "source": [
        "%%writefile /content/ai_learning_path/src/visualize.py\n",
        "import matplotlib.pyplot as plt\n",
        "import networkx as nx\n",
        "from src.planner import WeeklyPlan\n",
        "\n",
        "def plot_plan(plan):\n",
        "    # --- Bar chart ---\n",
        "    weeks = [p.week for p in plan]\n",
        "    titles = [p.title for p in plan]\n",
        "    hours = [p.hours for p in plan]\n",
        "\n",
        "    plt.figure(figsize=(8,4))\n",
        "    plt.barh(titles, hours, color=\"skyblue\", edgecolor=\"black\")\n",
        "    plt.xlabel(\"Hours\")\n",
        "    plt.ylabel(\"Courses\")\n",
        "    plt.title(\"Planned Learning Path (Weekly Hours)\")\n",
        "    plt.show()\n",
        "\n",
        "def plot_graph(plan):\n",
        "    # --- Graph representation using networkx ---\n",
        "    G = nx.DiGraph()\n",
        "\n",
        "    for p in plan:\n",
        "        week_node = f\"Week {p.week}\"\n",
        "        course_node = p.title\n",
        "        G.add_node(week_node, type=\"week\")\n",
        "        G.add_node(course_node, type=\"course\")\n",
        "        G.add_edge(week_node, course_node, label=f\"{p.hours}h\")\n",
        "\n",
        "    pos = nx.spring_layout(G, seed=42)\n",
        "\n",
        "    plt.figure(figsize=(8,6))\n",
        "    node_colors = [\"lightgreen\" if G.nodes[n][\"type\"]==\"week\" else \"lightblue\" for n in G.nodes]\n",
        "    nx.draw(G, pos, with_labels=True, node_size=2000, node_color=node_colors, font_size=9, font_weight=\"bold\")\n",
        "    edge_labels = nx.get_edge_attributes(G, \"label\")\n",
        "    nx.draw_networkx_edge_labels(G, pos, edge_labels=edge_labels, font_size=8)\n",
        "    plt.title(\"Learning Path Graph\")\n",
        "    plt.show()\n"
      ],
      "metadata": {
        "colab": {
          "base_uri": "https://localhost:8080/"
        },
        "id": "i0LMdo40X_qM",
        "outputId": "792c994a-cda2-4a79-e87c-b510db9ff70d"
      },
      "execution_count": null,
      "outputs": [
        {
          "output_type": "stream",
          "name": "stdout",
          "text": [
            "Overwriting /content/ai_learning_path/src/visualize.py\n"
          ]
        }
      ]
    },
    {
      "cell_type": "code",
      "source": [
        "%%writefile /content/ai_learning_path/run.py\n",
        "from src.data_loader import load_sample_catalog\n",
        "from src.learner_profile import LearnerProfile\n",
        "from src.recommender import rank_courses\n",
        "from src.planner import plan_path\n",
        "from src.visualize import plot_plan, plot_graph\n",
        "\n",
        "def main():\n",
        "    catalog = load_sample_catalog()\n",
        "    profile = LearnerProfile()\n",
        "    ranked = rank_courses(profile, catalog)\n",
        "    plan = plan_path(profile, ranked)\n",
        "\n",
        "    print(\"=== Recommendations ===\")\n",
        "    for r in ranked:\n",
        "        print(f\"- {r.row.title} ({r.score:.2f}) → {', '.join(r.reasons)}\")\n",
        "\n",
        "    print(\"\\n=== Weekly Path ===\")\n",
        "    for p in plan:\n",
        "        print(f\"Week {p.week}: {p.title} — {p.hours}h\")\n",
        "\n",
        "    # Show graphs\n",
        "    plot_plan(plan)   # bar chart\n",
        "    plot_graph(plan)  # network graph\n",
        "\n",
        "if __name__ == \"__main__\":\n",
        "    main()\n"
      ],
      "metadata": {
        "colab": {
          "base_uri": "https://localhost:8080/"
        },
        "id": "KR-H71M1YCfM",
        "outputId": "bc5affaf-3373-4efe-803f-ad4dcee8459a"
      },
      "execution_count": null,
      "outputs": [
        {
          "output_type": "stream",
          "name": "stdout",
          "text": [
            "Overwriting /content/ai_learning_path/run.py\n"
          ]
        }
      ]
    },
    {
      "cell_type": "code",
      "source": [
        "!python /content/ai_learning_path/run.py\n"
      ],
      "metadata": {
        "colab": {
          "base_uri": "https://localhost:8080/"
        },
        "id": "k-MzMGfyYE-o",
        "outputId": "a2dad8a0-c9c5-4ac6-af43-1e98a612e084"
      },
      "execution_count": null,
      "outputs": [
        {
          "output_type": "stream",
          "name": "stdout",
          "text": [
            "=== Recommendations ===\n",
            "- Data Structures in C++ (1.00) → matches weak skill\n",
            "- System Design Basics (1.00) → matches weak skill\n",
            "- Intro to Python (0.50) → level aligned\n",
            "- Machine Learning 101 (0.00) → generic match\n",
            "- Deep Learning Foundations (0.00) → generic match\n",
            "\n",
            "=== Weekly Path ===\n",
            "Week 2: Data Structures in C++ — 15h\n",
            "Week 3: System Design Basics — 20h\n",
            "Week 4: Intro to Python — 10h\n",
            "Week 5: Machine Learning 101 — 20h\n",
            "Week 6: Deep Learning Foundations — 25h\n",
            "Figure(800x400)\n",
            "Figure(800x600)\n"
          ]
        }
      ]
    },
    {
      "cell_type": "code",
      "source": [
        "# Run main() directly inside notebook so matplotlib can display graphs\n",
        "%run /content/ai_learning_path/run.py\n"
      ],
      "metadata": {
        "colab": {
          "base_uri": "https://localhost:8080/",
          "height": 1000
        },
        "id": "tm6ttkFscAvZ",
        "outputId": "6e0455b5-d89d-464a-cb95-3ef13d5cfe3c"
      },
      "execution_count": null,
      "outputs": [
        {
          "output_type": "stream",
          "name": "stdout",
          "text": [
            "=== Recommendations ===\n",
            "- Data Structures in C++ (1.00) → matches weak skill\n",
            "- System Design Basics (1.00) → matches weak skill\n",
            "- Intro to Python (0.50) → level aligned\n",
            "- Machine Learning 101 (0.00) → generic match\n",
            "- Deep Learning Foundations (0.00) → generic match\n",
            "\n",
            "=== Weekly Path ===\n",
            "Week 2: Data Structures in C++ — 15h\n",
            "Week 3: System Design Basics — 20h\n",
            "Week 4: Intro to Python — 10h\n",
            "Week 5: Machine Learning 101 — 20h\n",
            "Week 6: Deep Learning Foundations — 25h\n"
          ]
        },
        {
          "output_type": "display_data",
          "data": {
            "text/plain": [
              "<Figure size 800x400 with 1 Axes>"
            ],
            "image/png": "[encoded data removed]"
          },
          "metadata": {}
        },
        {
          "output_type": "display_data",
          "data": {
            "text/plain": [
              "<Figure size 800x600 with 1 Axes>"
            ],
            "image/png": "[encoded data removed]"
          },
          "metadata": {}
        },
        {
          "output_type": "display_data",
          "data": {
            "text/plain": [
              "<Figure size 640x480 with 0 Axes>"
            ]
          },
          "metadata": {}
        }
      ]
    }
  ]
}